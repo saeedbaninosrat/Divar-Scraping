{
 "cells": [
  {
   "cell_type": "code",
   "execution_count": null,
   "metadata": {},
   "outputs": [],
   "source": [
    "import pandas as pd\n",
    "import re\n"
   ]
  },
  {
   "cell_type": "code",
   "execution_count": null,
   "metadata": {},
   "outputs": [],
   "source": [
    "filename = \"16oct\"\n",
    "read_file = pd.read_csv('19sep.csv')\n",
    "read_file.to_csv(\"%s.csv\"%filename, encoding='utf-8-sig', index=None,\n",
    "                 header=True)"
   ]
  },
  {
   "cell_type": "code",
   "execution_count": null,
   "metadata": {},
   "outputs": [],
   "source": [
    "df = pd.read_csv(r'./%s.csv'%filename, encoding='utf8')\n",
    "df = pd.DataFrame(df)\n",
    "df"
   ]
  },
  {
   "cell_type": "code",
   "execution_count": null,
   "metadata": {},
   "outputs": [],
   "source": [
    "df.loc"
   ]
  },
  {
   "cell_type": "code",
   "execution_count": null,
   "metadata": {},
   "outputs": [],
   "source": [
    "motor = []\n",
    "chassis = []\n",
    "fchassis = []\n",
    "bchassis = []\n",
    "bodys = []\n",
    "insurance = []\n",
    "gearbox = []\n",
    "price = []\n",
    "distance = []\n",
    "year = []\n",
    "color = []\n",
    "\n",
    "for i in range(len(df.index)):\n",
    "    dyc = re.findall(r\"(.*), (.*), (.*)\", df['Distance Year Color'][i])\n",
    "    # print(dyc)\n",
    "    distance.append(dyc[0][0])\n",
    "    year.append(dyc[0][1])\n",
    "    color.append(dyc[0][2])\n",
    "    \n",
    "\n",
    "    motor.append(re.findall(r\", وضعیت موتور,(.*?),\", df['Infos'][i]))\n",
    "    chassis.append(re.findall(r\", وضعیت شاسی‌ها,(.*?),\", df['Infos'][i]))\n",
    "    insurance.append(re.findall(\n",
    "        r\", مهلت بیمهٔ شخص ثالث,(.*?),\", df['Infos'][i]))\n",
    "    fchassis.append(re.findall(r\", شاسی جلو,(.*?),\", df['Infos'][i]))\n",
    "    bchassis.append(re.findall(r\", شاسی عقب,(.*?),\", df['Infos'][i]))\n",
    "    bodys.append(re.findall(r\", وضعیت بدنه,(.*?),\", df['Infos'][i]))\n",
    "    gearbox.append(re.findall(r\", گیربکس,(.*?),\", df['Infos'][i]))\n",
    "    price.append(re.findall(r\", قیمت فروش نقدی,(.*) تومان\", df['Infos'][i]))\n",
    "\n",
    "    # print(df['test2'][i])\n",
    "    # i +=1\n",
    "\n",
    "df['MotorState'] = motor \n",
    "df['ChassisState'] = chassis \n",
    "df['FrontChassis'] = fchassis \n",
    "df['BackChassis'] = bchassis \n",
    "df['BodyState'] = bodys \n",
    "df['Insurance'] = insurance \n",
    "df['Gearbox'] = gearbox \n",
    "df['Price'] = price \n",
    "df['Usage'] = distance\n",
    "df['Year'] = year\n",
    "df['Color'] = color\n",
    "\n",
    "print(df)\n",
    "# type(df)\n"
   ]
  },
  {
   "cell_type": "code",
   "execution_count": null,
   "metadata": {},
   "outputs": [],
   "source": [
    "df"
   ]
  },
  {
   "cell_type": "code",
   "execution_count": null,
   "metadata": {},
   "outputs": [],
   "source": [
    "df = df.drop('Distance Year Color', axis=1)\n",
    "df = df.drop('Infos', axis=1)\n",
    "df = df.rename({'test2': 'Infos'}, axis=1)  # new method\n",
    "print(df)"
   ]
  },
  {
   "cell_type": "code",
   "execution_count": null,
   "metadata": {},
   "outputs": [],
   "source": [
    "df.to_csv(\"./%s_Cleaned.csv\"%filename, encoding=\"UTF-8-sig\")"
   ]
  }
 ],
 "metadata": {
  "kernelspec": {
   "display_name": "Python 3.10.4 ('tf')",
   "language": "python",
   "name": "python3"
  },
  "language_info": {
   "codemirror_mode": {
    "name": "ipython",
    "version": 3
   },
   "file_extension": ".py",
   "mimetype": "text/x-python",
   "name": "python",
   "nbconvert_exporter": "python",
   "pygments_lexer": "ipython3",
   "version": "3.10.4"
  },
  "orig_nbformat": 4,
  "vscode": {
   "interpreter": {
    "hash": "b3786a3d91fef65560eea43fc5a5f9b26ec85c6d45691169d5df7c46227165df"
   }
  }
 },
 "nbformat": 4,
 "nbformat_minor": 2
}
