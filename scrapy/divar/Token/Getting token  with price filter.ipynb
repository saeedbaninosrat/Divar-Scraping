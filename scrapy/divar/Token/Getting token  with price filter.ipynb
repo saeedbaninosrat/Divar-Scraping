{
 "cells": [
  {
   "cell_type": "code",
   "execution_count": null,
   "metadata": {},
   "outputs": [],
   "source": [
    "import requests\n",
    "import time\n",
    "\n",
    "cities = [\"1\",\"2\",\"3\",\"4\",\"5\",\"6\",\"7\",\"8\",\"9\",\"10\",\"11\",\"12\",\"13\",\"14\",\"15\",\"16\",\"17\",\"18\",\"19\",\"20\",\"21\",\"22\",\"23\",\"24\",\"25\",\"26\",\"27\",\"28\",\"29\",\"30\",\"31\",\"32\",\"33\",\"34\",\"35\",\"36\",\"37\",\"38\",\"39\",\"314\",\"316\",\"317\",\"318\",\"602\",\"660\",\"662\",\"663\",\"664\",\"665\",\"671\",\"706\",\"707\",\"708\",\"709\",\"710\",\"743\",\"744\",\"745\",\"746\",\"747\",\"748\",\"749\",\"750\",\"751\",\"752\",\"753\",\"754\",\"756\",\"759\",\"760\",\"761\",\"762\",\"763\",\"764\",\"765\",\"766\",\"767\",\"768\",\"769\",\"770\",\"771\",\"772\",\"773\",\"774\",\"775\",\"776\",\"777\",\"778\",\"779\",\"780\",\"781\",\"782\",\"783\",\"784\",\"785\",\"786\",\"787\",\"788\",\"789\",\"790\",\"791\",\"792\",\"793\",\"794\",\"795\",\"796\",\"797\",\"798\",\"799\",\"800\",\"802\",\"803\",\"804\",\"805\",\"806\",\"807\",\"808\",\"809\",\"810\",\"811\",\"812\",\"813\",\"814\",\"815\",\"816\",\"817\",\"818\",\"819\",\"820\",\"821\",\"822\",\"823\",\"824\",\"825\",\"826\",\"827\",\"828\",\"829\",\"830\",\"831\",\"832\",\"833\",\"834\",\"835\",\"836\",\"837\",\"838\",\"839\",\"840\",\"841\",\"842\",\"843\",\"844\",\"845\",\"846\",\"847\",\"848\",\"849\",\"850\",\"851\",\"852\",\"853\",\"854\",\"855\",\"856\",\"857\",\"858\",\"859\",\"860\",\"861\",\"862\",\"863\",\"864\",\"865\",\"866\",\"867\",\"868\",\"869\",\"870\",\"871\",\"872\",\"873\",\"874\",\"1683\",\"1684\",\"1686\",\"1687\",\"1688\",\"1689\",\"1690\",\"1691\",\"1692\",\"1693\",\"1694\",\"1695\",\"1696\",\"1697\",\"1698\",\"1699\",\"1700\",\"1701\",\"1702\",\"1703\",\"1706\",\"1707\",\"1708\",\"1709\",\"1710\",\"1711\",\"1712\",\"1713\",\"1714\",\"1715\",\"1716\",\"1717\",\"1718\",\"1719\",\"1720\",\"1721\",\"1722\",\"1723\",\"1724\",\"1725\",\"1726\",\"1727\",\"1728\",\"1729\",\"1730\",\"1731\",\"1732\",\"1733\",\"1734\",\"1735\",\"1736\",\"1737\",\"1738\",\"1739\",\"1740\",\"1741\",\"1742\",\"1743\",\"1744\",\"1745\",\"1746\",\"1747\",\"1748\",\"1749\",\"1750\",\"1751\",\"1752\",\"1753\",\"1754\",\"1755\",\"1756\",\"1757\",\"1758\",\"1759\",\"1760\",\"1761\",\"1762\",\"1763\",\"1764\",\"1765\",\"1766\",\"1767\",\"1768\",\"1769\",\"1770\",\"1771\",\"1772\",\"1773\",\"1774\",\"1775\",\"1776\",\"1777\",\"1778\",\"1779\",\"1780\",\"1781\",\"1782\",\"1783\",\"1784\",\"1785\",\"1786\",\"1787\",\"1788\",\"1789\",\"1790\",\"1791\",\"1792\",\"1793\",\"1794\",\"1795\",\"1796\",\"1797\",\"1798\",\"1799\",\"1800\",\"1801\",\"1802\",\"1803\",\"1804\",\"1805\",\"1806\",\"1807\",\"1808\",\"1809\",\"1810\",\"1811\",\"1812\",\"1813\",\"1814\",\"1815\",\"1816\",\"1817\",\"1818\",\"1819\",\"1820\",\"1821\",\"1822\",\"1823\",\"1824\",\"1825\",\"1826\",\"1827\",\"1828\",\"1829\",\"1830\",\"1831\",\"1832\",\"1833\",\"1834\",\"1835\",\"1836\",\"1837\",\"1839\",\"1840\",\"1841\",\"1842\",\"1843\",\"1844\",\"1845\",\"1846\",\"1847\",\"1848\",\"1849\",\"1850\",\"1851\",\"1852\",\"1853\",\"1854\",\"1855\",\"1856\",\"1858\",\"1859\",\"1860\",\"1861\",\"1862\",\"1863\",\"1864\",\"1865\",\"1866\",\"1867\",\"1868\",\"1869\",\"1870\",\"1871\",\"1872\",\"1873\",\"1874\",\"1875\",\"1876\"]\n",
    "\n",
    "url = 'https://api.divar.ir/v8/web-search/1/light'\n",
    "\n",
    "#epoch time for getting the last post date\n",
    "unixtime = int((time.time())) * 1000000 - 68\n",
    "c\n",
    "t = time.localtime()\n",
    "current_time = time.strftime(\"%H,%M,%S\", t)"
   ]
  },
  {
   "cell_type": "code",
   "execution_count": null,
   "metadata": {},
   "outputs": [],
   "source": [
    "json = {\"json_schema\": {\"category\": {\"value\": \"light\"}, \"cities\": cities, \"exchange\": {\"value\": \"exclude-exchanges\"}, \"price\": {\"min\": 10000} },\n",
    "        \"last-post-date\": unixtime}\n",
    "\n",
    "\n",
    "headers = {\n",
    "    \"Content-Type\": \"application/json\"\n",
    "}\n",
    "\n",
    "res = requests.post(url, json=json, headers=headers)\n",
    "# print(res)\n",
    "data = res.json()\n",
    "# print(data)\n",
    "last_post_date = data['last_post_date']\n",
    "# print(last_post_date)\n",
    "\n",
    "with open(\"%s.txt\"%current_time, \"a\", encoding='utf-8') as txt_file:\n",
    "    while True:  \n",
    "        json = {\"json_schema\": {\"category\": {\"value\": \"light\"}, \"cities\": cities, \"exchange\": {\"value\": \"exclude-exchanges\"}, \"price\": {\"min\": 10000} },\n",
    "            \"last-post-date\": last_post_date}\n",
    "\n",
    "        res = requests.post(url, json=json, headers=headers)\n",
    "        data = res.json()\n",
    "        last_post_date = data['last_post_date']\n",
    "\n",
    "        for widget in data['web_widgets']['post_list']:\n",
    "            token = widget['data']['token']\n",
    "            txt_file.write(token + \"\\n\")\n",
    "        time.sleep(1)\n",
    "        if unixtime - 260000000000 > last_post_date:\n",
    "            break"
   ]
  },
  {
   "cell_type": "code",
   "execution_count": null,
   "metadata": {},
   "outputs": [],
   "source": [
    "print(last_post_date)"
   ]
  },
  {
   "cell_type": "markdown",
   "metadata": {},
   "source": [
    "# 200 - 400"
   ]
  },
  {
   "cell_type": "code",
   "execution_count": null,
   "metadata": {},
   "outputs": [],
   "source": [
    "json = {\"json_schema\": {\"category\": {\"value\": \"light\"} , \"cities\": cities , \"price\": {\"max\": 400000000, \"min\": 200000000} },\n",
    "        \"last-post-date\": 1662797206598101}\n",
    "headers = {\n",
    "    \"Content-Type\": \"application/json\"\n",
    "    }\n",
    "\n",
    "res = requests.post(url, json=json, headers=headers)\n",
    "data = res.json()\n",
    "last_post_date = data['last_post_date']\n",
    "\n",
    "# count = 0\n",
    "listoftokens = []\n",
    "\n",
    "while True:\n",
    "    json = {\"json_schema\": {\"category\": {\"value\": \"light\"} , \"cities\": cities , \"price\": {\"max\": 400000000, \"min\": 200000000} },\n",
    "        \"last-post-date\": last_post_date}\n",
    "\n",
    "\n",
    "    res = requests.post(url, json=json, headers=headers)\n",
    "    data = res.json()\n",
    "    last_post_date = data['last_post_date']\n",
    "    \n",
    "    for widget in data['web_widgets']['post_list']:\n",
    "        token = widget['data']['token']\n",
    "        listoftokens.append(token)\n",
    "        # print(token)\n",
    "    time.sleep(2)\n",
    "    \n",
    "\n"
   ]
  },
  {
   "cell_type": "code",
   "execution_count": null,
   "metadata": {},
   "outputs": [],
   "source": [
    "txt_file = open('tokens200-400.txt', 'w', encoding='utf8')\n",
    "txt_file.write(','.join(listoftokens))\n",
    "txt_file.close()"
   ]
  },
  {
   "cell_type": "markdown",
   "metadata": {},
   "source": [
    "# 10 - 200"
   ]
  },
  {
   "cell_type": "code",
   "execution_count": null,
   "metadata": {},
   "outputs": [],
   "source": [
    "url = 'https://api.divar.ir/v8/web-search/1/light'\n",
    "\n",
    "json = {\"json_schema\": {\"category\": {\"value\": \"light\"} , \"cities\": cities , \"price\": {\"max\": 200000000, \"min\": 10000000} },\n",
    "        \"last-post-date\": 1662881495494485}\n",
    "\n",
    "headers = {\n",
    "    \"Content-Type\": \"application/json\"\n",
    "    }\n",
    "\n",
    "res = requests.post(url, json=json, headers=headers)\n",
    "data = res.json()\n",
    "last_post_date = data['last_post_date']\n",
    "\n",
    "# count = 0\n",
    "listoftokens = []\n",
    "\n",
    "while True:\n",
    "    json = {\"json_schema\": {\"category\": {\"value\": \"light\"} , \"cities\": cities , \"price\": {\"max\": 200000000, \"min\": 10000000} },\n",
    "        \"last-post-date\": last_post_date}\n",
    "\n",
    "\n",
    "    res = requests.post(url, json=json, headers=headers)\n",
    "    data = res.json()\n",
    "    last_post_date = data['last_post_date']\n",
    "    \n",
    "    for widget in data['web_widgets']['post_list']:\n",
    "        token = widget['data']['token']\n",
    "        listoftokens.append(token)\n",
    "        # count += 1\n",
    "        # print(token)\n",
    "    time.sleep(2)\n"
   ]
  },
  {
   "cell_type": "code",
   "execution_count": null,
   "metadata": {},
   "outputs": [],
   "source": [
    "txt_file = open('tokens0-200.txt', 'w', encoding='utf8')\n",
    "txt_file.write(','.join(listoftokens))\n",
    "txt_file.close()"
   ]
  },
  {
   "cell_type": "markdown",
   "metadata": {},
   "source": [
    "# 600 - 800"
   ]
  },
  {
   "cell_type": "code",
   "execution_count": null,
   "metadata": {},
   "outputs": [],
   "source": [
    "url = 'https://api.divar.ir/v8/web-search/1/light'\n",
    "\n",
    "json = {\"json_schema\": {\"category\": {\"value\": \"light\"} , \"cities\": cities , \"price\": {\"max\": 800000000, \"min\": 600000000} },\n",
    "        \"last-post-date\": 1662639133674694}\n",
    "\n",
    "headers = {\n",
    "    \"Content-Type\": \"application/json\"\n",
    "    }\n",
    "\n",
    "res = requests.post(url, json=json, headers=headers)\n",
    "data = res.json()\n",
    "last_post_date = data['last_post_date']\n",
    "\n",
    "# count = 0\n",
    "listoftokens = []\n",
    "\n",
    "while True:\n",
    "    json = {\"json_schema\": {\"category\": {\"value\": \"light\"} , \"cities\": cities , \"price\": {\"max\": 800000000, \"min\": 600000000} },\n",
    "        \"last-post-date\": last_post_date}\n",
    "\n",
    "\n",
    "    res = requests.post(url, json=json, headers=headers)\n",
    "    data = res.json()\n",
    "    last_post_date = data['last_post_date']\n",
    "    \n",
    "    for widget in data['web_widgets']['post_list']:\n",
    "        token = widget['data']['token']\n",
    "        listoftokens.append(token)\n",
    "        # count += 1\n",
    "        # print(token)\n",
    "    time.sleep(2)"
   ]
  },
  {
   "cell_type": "code",
   "execution_count": null,
   "metadata": {},
   "outputs": [],
   "source": [
    "\n",
    "txt_file = open('tokens600-800.txt', 'w', encoding='utf8')\n",
    "txt_file.write(','.join(listoftokens))\n",
    "txt_file.close()"
   ]
  },
  {
   "cell_type": "markdown",
   "metadata": {},
   "source": [
    "# 800 - 1500"
   ]
  },
  {
   "cell_type": "code",
   "execution_count": null,
   "metadata": {},
   "outputs": [],
   "source": [
    "url = 'https://api.divar.ir/v8/web-search/1/light'\n",
    "\n",
    "json = {\"json_schema\": {\"category\": {\"value\": \"light\"} , \"cities\": cities , \"price\": {\"max\": 1500000000, \"min\": 800000000} },\n",
    "        \"last-post-date\": 1662638703000141}\n",
    "\n",
    "headers = {\n",
    "    \"Content-Type\": \"application/json\"\n",
    "    }\n",
    "\n",
    "res = requests.post(url, json=json, headers=headers)\n",
    "data = res.json()\n",
    "last_post_date = data['last_post_date']\n",
    "\n",
    "# count = 0\n",
    "listoftokens = []\n",
    "\n",
    "while True:\n",
    "    json = {\"json_schema\": {\"category\": {\"value\": \"light\"} , \"cities\": cities , \"price\": {\"max\": 1500000000, \"min\": 800000000} },\n",
    "        \"last-post-date\": last_post_date}\n",
    "\n",
    "\n",
    "    res = requests.post(url, json=json, headers=headers)\n",
    "    data = res.json()\n",
    "    last_post_date = data['last_post_date']\n",
    "    \n",
    "    for widget in data['web_widgets']['post_list']:\n",
    "        token = widget['data']['token']\n",
    "        listoftokens.append(token)\n",
    "        # count += 1\n",
    "        # print(token)\n",
    "    time.sleep(2)"
   ]
  },
  {
   "cell_type": "code",
   "execution_count": null,
   "metadata": {},
   "outputs": [],
   "source": [
    "txt_file = open('tokens800-1500.txt', 'w', encoding='utf8')\n",
    "txt_file.write(','.join(listoftokens))\n",
    "txt_file.close()"
   ]
  },
  {
   "cell_type": "markdown",
   "metadata": {},
   "source": [
    "# 1500 - 4500"
   ]
  },
  {
   "cell_type": "code",
   "execution_count": null,
   "metadata": {},
   "outputs": [],
   "source": [
    "url = 'https://api.divar.ir/v8/web-search/1/light'\n",
    "\n",
    "json = {\"json_schema\": {\"category\": {\"value\": \"light\"} , \"cities\": cities , \"price\": {\"max\": 4500000000, \"min\": 1500000000} },\n",
    "        \"last-post-date\": 1662634947315349}\n",
    "\n",
    "headers = {\n",
    "    \"Content-Type\": \"application/json\"\n",
    "    }\n",
    "\n",
    "res = requests.post(url, json=json, headers=headers)\n",
    "data = res.json()\n",
    "last_post_date = data['last_post_date']\n",
    "\n",
    "# count = 0\n",
    "listoftokens = []\n",
    "\n",
    "while True:\n",
    "    json = {\"json_schema\": {\"category\": {\"value\": \"light\"} , \"cities\": cities , \"price\": {\"max\": 4500000000, \"min\": 1500000000} },\n",
    "        \"last-post-date\": last_post_date}\n",
    "\n",
    "\n",
    "    res = requests.post(url, json=json, headers=headers)\n",
    "    data = res.json()\n",
    "    last_post_date = data['last_post_date']\n",
    "    \n",
    "    for widget in data['web_widgets']['post_list']:\n",
    "        token = widget['data']['token']\n",
    "        listoftokens.append(token)\n",
    "        # count += 1\n",
    "        # print(token)\n",
    "    time.sleep(2)"
   ]
  },
  {
   "cell_type": "code",
   "execution_count": null,
   "metadata": {},
   "outputs": [],
   "source": [
    "txt_file = open('tokens1500-4500.txt', 'w', encoding='utf8')\n",
    "txt_file.write(','.join(listoftokens))\n",
    "txt_file.close()"
   ]
  },
  {
   "cell_type": "markdown",
   "metadata": {},
   "source": [
    "# 4500 - 10000"
   ]
  },
  {
   "cell_type": "code",
   "execution_count": null,
   "metadata": {},
   "outputs": [],
   "source": [
    "url = 'https://api.divar.ir/v8/web-search/1/light'\n",
    "\n",
    "json = {\"json_schema\": {\"category\": {\"value\": \"light\"}, \"cities\": cities, \"exchange\": {\"value\": \"exclude-exchanges\"}, \"price\": {\"min\": 4500000000}},\n",
    "        \"last-post-date\": 1663583748093811}\n",
    "\n",
    "headers = {\n",
    "    \"Content-Type\": \"application/json\"\n",
    "}\n",
    "\n",
    "res = requests.post(url, json=json, headers=headers)\n",
    "data = res.json()\n",
    "last_post_date = data['last_post_date']\n",
    "\n",
    "# count = 0\n",
    "listoftokens = []\n",
    "\n",
    "while True:  \n",
    "    json = {\"json_schema\": {\"category\": {\"value\": \"light\"}, \"cities\": cities, \"price\": {\"min\": 4500000000}},\n",
    "            \"last-post-date\": last_post_date}\n",
    "  \n",
    "\n",
    "    res = requests.post(url, json=json, headers=headers)\n",
    "    data = res.json()\n",
    "    last_post_date = data['last_post_date']\n",
    "\n",
    "    for widget in data['web_widgets']['post_list']:\n",
    "        token = widget['data']['token']\n",
    "        listoftokens.append(token)\n",
    "        # count += 1\n",
    "        # print(token)\n",
    "    time.sleep(2)\n"
   ]
  },
  {
   "cell_type": "code",
   "execution_count": null,
   "metadata": {},
   "outputs": [],
   "source": [
    "txt_file = open('tokens4500 - 10000.txt', 'w', encoding='utf8')\n",
    "txt_file.write(','.join(listoftokens))\n",
    "txt_file.close()\n"
   ]
  },
  {
   "cell_type": "markdown",
   "metadata": {},
   "source": [
    "# sort by time"
   ]
  },
  {
   "cell_type": "code",
   "execution_count": null,
   "metadata": {},
   "outputs": [],
   "source": [
    "url = 'https://api.divar.ir/v8/web-search/1/light'\n",
    "\n",
    "# print(url)\n",
    "json = {\"json_schema\": {\"category\": {\"value\": \"light\"}, \"cities\": cities, \"exchange\": {\"value\": \"exclude-exchanges\"}, \"price\": {\"min\": 10000} },\n",
    "        \"last-post-date\": 1664872253043582}\n",
    "\n",
    "\n",
    "headers = {\n",
    "    \"Content-Type\": \"application/json\"\n",
    "}\n",
    "\n",
    "res = requests.post(url, json=json, headers=headers)\n",
    "# print(res)\n",
    "data = res.json()\n",
    "# print(data)\n",
    "last_post_date = data['last_post_date']\n",
    "# print(last_post_date)\n",
    "\n",
    "listoftokens = []\n",
    "\n",
    "while True:  \n",
    "    json = {\"json_schema\": {\"category\": {\"value\": \"light\"}, \"cities\": cities, \"exchange\": {\"value\": \"exclude-exchanges\"}, \"price\": {\"min\": 10000} },\n",
    "        \"last-post-date\": last_post_date}\n",
    "  \n",
    "\n",
    "    res = requests.post(url, json=json, headers=headers)\n",
    "    data = res.json()\n",
    "    last_post_date = data['last_post_date']\n",
    "\n",
    "    for widget in data['web_widgets']['post_list']:\n",
    "        token = widget['data']['token']\n",
    "        listoftokens.append(token)\n",
    "        print(token)\n",
    "    time.sleep(1.2)"
   ]
  },
  {
   "cell_type": "code",
   "execution_count": null,
   "metadata": {},
   "outputs": [],
   "source": [
    "txt_file = open('sortbytime.txt', 'w', encoding='utf8')\n",
    "txt_file.write(','.join(listoftokens))\n",
    "txt_file.close()"
   ]
  }
 ],
 "metadata": {
  "kernelspec": {
   "display_name": "Python 3.10.4 ('tf')",
   "language": "python",
   "name": "python3"
  },
  "language_info": {
   "codemirror_mode": {
    "name": "ipython",
    "version": 3
   },
   "file_extension": ".py",
   "mimetype": "text/x-python",
   "name": "python",
   "nbconvert_exporter": "python",
   "pygments_lexer": "ipython3",
   "version": "3.10.4"
  },
  "orig_nbformat": 4,
  "vscode": {
   "interpreter": {
    "hash": "b3786a3d91fef65560eea43fc5a5f9b26ec85c6d45691169d5df7c46227165df"
   }
  }
 },
 "nbformat": 4,
 "nbformat_minor": 2
}
