{
 "cells": [
  {
   "cell_type": "code",
   "execution_count": 1,
   "metadata": {},
   "outputs": [],
   "source": [
    "import pandas as pd\n",
    "import re\n"
   ]
  },
  {
   "cell_type": "code",
   "execution_count": 2,
   "metadata": {},
   "outputs": [],
   "source": [
    "filename = \"2nov\"\n",
    "read_file = pd.read_csv('2nov.csv')\n",
    "read_file.to_csv(\"%s.csv\"%filename, encoding='utf-8-sig', index=None,\n",
    "                 header=True)"
   ]
  },
  {
   "cell_type": "code",
   "execution_count": 3,
   "metadata": {},
   "outputs": [
    {
     "data": {
      "text/html": [
       "<div>\n",
       "<style scoped>\n",
       "    .dataframe tbody tr th:only-of-type {\n",
       "        vertical-align: middle;\n",
       "    }\n",
       "\n",
       "    .dataframe tbody tr th {\n",
       "        vertical-align: top;\n",
       "    }\n",
       "\n",
       "    .dataframe thead th {\n",
       "        text-align: right;\n",
       "    }\n",
       "</style>\n",
       "<table border=\"1\" class=\"dataframe\">\n",
       "  <thead>\n",
       "    <tr style=\"text-align: right;\">\n",
       "      <th></th>\n",
       "      <th>Page link</th>\n",
       "      <th>Infos</th>\n",
       "      <th>test2</th>\n",
       "      <th>Distance Year Color</th>\n",
       "    </tr>\n",
       "  </thead>\n",
       "  <tbody>\n",
       "    <tr>\n",
       "      <th>0</th>\n",
       "      <td>https://divar.ir/v/-/wYiVkqbu</td>\n",
       "      <td>برند و تیپ, وضعیت موتور, سالم, وضعیت شاسی‌ها, ...</td>\n",
       "      <td>پژو پارس موتور جدید XU7P</td>\n",
       "      <td>۴۰٬۰۰۰, 1401, سفید</td>\n",
       "    </tr>\n",
       "    <tr>\n",
       "      <th>1</th>\n",
       "      <td>https://divar.ir/v/-/wYipkBQj</td>\n",
       "      <td>برند و تیپ, وضعیت موتور, سالم, وضعیت شاسی‌ها, ...</td>\n",
       "      <td>پراید صندوق‌دار بنزینی</td>\n",
       "      <td>۳۰۰٬۰۰۰, 1385, مشکی</td>\n",
       "    </tr>\n",
       "    <tr>\n",
       "      <th>2</th>\n",
       "      <td>https://divar.ir/v/-/wYipkB_A</td>\n",
       "      <td>برند و تیپ, وضعیت موتور, سالم, وضعیت بدنه, رنگ...</td>\n",
       "      <td>تیبا صندوق‌دار EX</td>\n",
       "      <td>۲۸۰٬۰۰۰, 1393, سفید</td>\n",
       "    </tr>\n",
       "    <tr>\n",
       "      <th>3</th>\n",
       "      <td>https://divar.ir/v/-/wYilT0IC</td>\n",
       "      <td>برند و تیپ, وضعیت موتور, سالم, وضعیت شاسی‌ها, ...</td>\n",
       "      <td>پراید هاچبک</td>\n",
       "      <td>۳۰۰٬۰۰۰, 1385, مشکی</td>\n",
       "    </tr>\n",
       "    <tr>\n",
       "      <th>4</th>\n",
       "      <td>https://divar.ir/v/-/wYihE1qM</td>\n",
       "      <td>برند و تیپ, وضعیت موتور, سالم, وضعیت شاسی‌ها, ...</td>\n",
       "      <td>پژو پارس LX TU5</td>\n",
       "      <td>۱۴۰٬۰۰۰, 1397, مشکی</td>\n",
       "    </tr>\n",
       "    <tr>\n",
       "      <th>...</th>\n",
       "      <td>...</td>\n",
       "      <td>...</td>\n",
       "      <td>...</td>\n",
       "      <td>...</td>\n",
       "    </tr>\n",
       "    <tr>\n",
       "      <th>119221</th>\n",
       "      <td>https://divar.ir/v/-/wYoZe7cs</td>\n",
       "      <td>برند و تیپ, وضعیت موتور, سالم, وضعیت بدنه, سال...</td>\n",
       "      <td>پراید 131 LE</td>\n",
       "      <td>۱۸۰٬۰۰۰, 1395, سفید</td>\n",
       "    </tr>\n",
       "    <tr>\n",
       "      <th>119222</th>\n",
       "      <td>Page link</td>\n",
       "      <td>Infos</td>\n",
       "      <td>test2</td>\n",
       "      <td>Distance Year Color</td>\n",
       "    </tr>\n",
       "    <tr>\n",
       "      <th>119223</th>\n",
       "      <td>https://divar.ir/v/-/wYmFSeLw</td>\n",
       "      <td>برند و تیپ, وضعیت موتور, سالم, وضعیت شاسی‌ها, ...</td>\n",
       "      <td>رانا LX</td>\n",
       "      <td>۵۶٬۰۰۰, 1393, سفید</td>\n",
       "    </tr>\n",
       "    <tr>\n",
       "      <th>119224</th>\n",
       "      <td>https://divar.ir/v/-/wYpV2pWa</td>\n",
       "      <td>برند و تیپ, وضعیت موتور, سالم, وضعیت شاسی‌ها, ...</td>\n",
       "      <td>نیسان</td>\n",
       "      <td>۳۲۰٬۰۰۰, 2009, آبی</td>\n",
       "    </tr>\n",
       "    <tr>\n",
       "      <th>119225</th>\n",
       "      <td>https://divar.ir/v/-/wYn5_CVW</td>\n",
       "      <td>برند و تیپ, وضعیت موتور, سالم, وضعیت شاسی‌ها, ...</td>\n",
       "      <td>هیوندای النترا 1800cc</td>\n",
       "      <td>۱۹۷٬۰۰۰, 2014, مشکی</td>\n",
       "    </tr>\n",
       "  </tbody>\n",
       "</table>\n",
       "<p>119226 rows × 4 columns</p>\n",
       "</div>"
      ],
      "text/plain": [
       "                            Page link  \\\n",
       "0       https://divar.ir/v/-/wYiVkqbu   \n",
       "1       https://divar.ir/v/-/wYipkBQj   \n",
       "2       https://divar.ir/v/-/wYipkB_A   \n",
       "3       https://divar.ir/v/-/wYilT0IC   \n",
       "4       https://divar.ir/v/-/wYihE1qM   \n",
       "...                               ...   \n",
       "119221  https://divar.ir/v/-/wYoZe7cs   \n",
       "119222                      Page link   \n",
       "119223  https://divar.ir/v/-/wYmFSeLw   \n",
       "119224  https://divar.ir/v/-/wYpV2pWa   \n",
       "119225  https://divar.ir/v/-/wYn5_CVW   \n",
       "\n",
       "                                                    Infos  \\\n",
       "0       برند و تیپ, وضعیت موتور, سالم, وضعیت شاسی‌ها, ...   \n",
       "1       برند و تیپ, وضعیت موتور, سالم, وضعیت شاسی‌ها, ...   \n",
       "2       برند و تیپ, وضعیت موتور, سالم, وضعیت بدنه, رنگ...   \n",
       "3       برند و تیپ, وضعیت موتور, سالم, وضعیت شاسی‌ها, ...   \n",
       "4       برند و تیپ, وضعیت موتور, سالم, وضعیت شاسی‌ها, ...   \n",
       "...                                                   ...   \n",
       "119221  برند و تیپ, وضعیت موتور, سالم, وضعیت بدنه, سال...   \n",
       "119222                                              Infos   \n",
       "119223  برند و تیپ, وضعیت موتور, سالم, وضعیت شاسی‌ها, ...   \n",
       "119224  برند و تیپ, وضعیت موتور, سالم, وضعیت شاسی‌ها, ...   \n",
       "119225  برند و تیپ, وضعیت موتور, سالم, وضعیت شاسی‌ها, ...   \n",
       "\n",
       "                           test2  Distance Year Color  \n",
       "0       پژو پارس موتور جدید XU7P   ۴۰٬۰۰۰, 1401, سفید  \n",
       "1         پراید صندوق‌دار بنزینی  ۳۰۰٬۰۰۰, 1385, مشکی  \n",
       "2              تیبا صندوق‌دار EX  ۲۸۰٬۰۰۰, 1393, سفید  \n",
       "3                    پراید هاچبک  ۳۰۰٬۰۰۰, 1385, مشکی  \n",
       "4                پژو پارس LX TU5  ۱۴۰٬۰۰۰, 1397, مشکی  \n",
       "...                          ...                  ...  \n",
       "119221              پراید 131 LE  ۱۸۰٬۰۰۰, 1395, سفید  \n",
       "119222                     test2  Distance Year Color  \n",
       "119223                   رانا LX   ۵۶٬۰۰۰, 1393, سفید  \n",
       "119224                     نیسان   ۳۲۰٬۰۰۰, 2009, آبی  \n",
       "119225     هیوندای النترا 1800cc  ۱۹۷٬۰۰۰, 2014, مشکی  \n",
       "\n",
       "[119226 rows x 4 columns]"
      ]
     },
     "execution_count": 3,
     "metadata": {},
     "output_type": "execute_result"
    }
   ],
   "source": [
    "df = pd.read_csv(r'./%s.csv'%filename, encoding='utf-8-sig')\n",
    "df"
   ]
  },
  {
   "cell_type": "code",
   "execution_count": 11,
   "metadata": {},
   "outputs": [
    {
     "ename": "IndexError",
     "evalue": "list index out of range",
     "output_type": "error",
     "traceback": [
      "\u001b[1;31m---------------------------------------------------------------------------\u001b[0m",
      "\u001b[1;31mIndexError\u001b[0m                                Traceback (most recent call last)",
      "\u001b[1;32mc:\\Users\\saeed\\Desktop\\Mozayedegar\\Divar-Scraping\\scrapy\\divar\\Token\\Cleaning\\Data-Cleaner.ipynb Cell 4\u001b[0m in \u001b[0;36m<cell line: 13>\u001b[1;34m()\u001b[0m\n\u001b[0;32m     <a href='vscode-notebook-cell:/c%3A/Users/saeed/Desktop/Mozayedegar/Divar-Scraping/scrapy/divar/Token/Cleaning/Data-Cleaner.ipynb#W3sZmlsZQ%3D%3D?line=13'>14</a>\u001b[0m dyc \u001b[39m=\u001b[39m re\u001b[39m.\u001b[39mfindall(\u001b[39mr\u001b[39m\u001b[39m\"\u001b[39m\u001b[39m(.*), (.*), (.*)\u001b[39m\u001b[39m\"\u001b[39m, df[\u001b[39m'\u001b[39m\u001b[39mDistance Year Color\u001b[39m\u001b[39m'\u001b[39m][i])\n\u001b[0;32m     <a href='vscode-notebook-cell:/c%3A/Users/saeed/Desktop/Mozayedegar/Divar-Scraping/scrapy/divar/Token/Cleaning/Data-Cleaner.ipynb#W3sZmlsZQ%3D%3D?line=14'>15</a>\u001b[0m \u001b[39m# print(dyc)\u001b[39;00m\n\u001b[1;32m---> <a href='vscode-notebook-cell:/c%3A/Users/saeed/Desktop/Mozayedegar/Divar-Scraping/scrapy/divar/Token/Cleaning/Data-Cleaner.ipynb#W3sZmlsZQ%3D%3D?line=15'>16</a>\u001b[0m distance\u001b[39m.\u001b[39mappend(dyc[\u001b[39m0\u001b[39;49m][\u001b[39m0\u001b[39m])\n\u001b[0;32m     <a href='vscode-notebook-cell:/c%3A/Users/saeed/Desktop/Mozayedegar/Divar-Scraping/scrapy/divar/Token/Cleaning/Data-Cleaner.ipynb#W3sZmlsZQ%3D%3D?line=16'>17</a>\u001b[0m year\u001b[39m.\u001b[39mappend(dyc[\u001b[39m0\u001b[39m][\u001b[39m1\u001b[39m])\n\u001b[0;32m     <a href='vscode-notebook-cell:/c%3A/Users/saeed/Desktop/Mozayedegar/Divar-Scraping/scrapy/divar/Token/Cleaning/Data-Cleaner.ipynb#W3sZmlsZQ%3D%3D?line=17'>18</a>\u001b[0m color\u001b[39m.\u001b[39mappend(dyc[\u001b[39m0\u001b[39m][\u001b[39m2\u001b[39m])\n",
      "\u001b[1;31mIndexError\u001b[0m: list index out of range"
     ]
    }
   ],
   "source": [
    "motor = []\n",
    "chassis = []\n",
    "fchassis = []\n",
    "bchassis = []\n",
    "bodys = []\n",
    "insurance = []\n",
    "gearbox = []\n",
    "price = []\n",
    "distance = []\n",
    "year = []\n",
    "color = []\n",
    "\n",
    "for i in df.index:\n",
    "    dyc = re.findall(r\"(.*), (.*), (.*)\", df['Distance Year Color'][i])\n",
    "    # print(dyc)\n",
    "    distance.append(dyc[0][0])\n",
    "    year.append(dyc[0][1])\n",
    "    color.append(dyc[0][2])\n",
    "    print(distance , year , color)\n",
    "\n",
    "    motor.append(re.findall(r\", وضعیت موتور,(.*?),\", df['Infos'][i]))\n",
    "    chassis.append(re.findall(r\", وضعیت شاسی‌ها,(.*?),\", df['Infos'][i]))\n",
    "    insurance.append(re.findall(\n",
    "        r\", مهلت بیمهٔ شخص ثالث,(.*?),\", df['Infos'][i]))\n",
    "    fchassis.append(re.findall(r\", شاسی جلو,(.*?),\", df['Infos'][i]))\n",
    "    bchassis.append(re.findall(r\", شاسی عقب,(.*?),\", df['Infos'][i]))\n",
    "    bodys.append(re.findall(r\", وضعیت بدنه,(.*?),\", df['Infos'][i]))\n",
    "    gearbox.append(re.findall(r\", گیربکس,(.*?),\", df['Infos'][i]))\n",
    "    price.append(re.findall(r\", قیمت فروش نقدی,(.*) تومان\", df['Infos'][i]))\n",
    "\n",
    "    # print(df['test2'][i])\n",
    "    # i +=1\n",
    "\n",
    "df['MotorState'] = motor \n",
    "df['ChassisState'] = chassis \n",
    "df['FrontChassis'] = fchassis \n",
    "df['BackChassis'] = bchassis \n",
    "df['BodyState'] = bodys \n",
    "df['Insurance'] = insurance \n",
    "df['Gearbox'] = gearbox \n",
    "df['Price'] = price \n",
    "df['Usage'] = distance\n",
    "df['Year'] = year\n",
    "df['Color'] = color\n",
    "\n",
    "print(df)\n",
    "# type(df)\n"
   ]
  },
  {
   "cell_type": "code",
   "execution_count": null,
   "metadata": {},
   "outputs": [],
   "source": [
    "df"
   ]
  },
  {
   "cell_type": "code",
   "execution_count": 8,
   "metadata": {},
   "outputs": [
    {
     "ename": "KeyError",
     "evalue": "\"['test2'] not found in axis\"",
     "output_type": "error",
     "traceback": [
      "\u001b[1;31m---------------------------------------------------------------------------\u001b[0m",
      "\u001b[1;31mKeyError\u001b[0m                                  Traceback (most recent call last)",
      "\u001b[1;32mc:\\Users\\saeed\\Desktop\\Mozayedegar\\Divar-Scraping\\scrapy\\divar\\Cleaning\\Data-Cleaner.ipynb Cell 5\u001b[0m in \u001b[0;36m<cell line: 4>\u001b[1;34m()\u001b[0m\n\u001b[0;32m      <a href='vscode-notebook-cell:/c%3A/Users/saeed/Desktop/Mozayedegar/Divar-Scraping/scrapy/divar/Cleaning/Data-Cleaner.ipynb#W4sZmlsZQ%3D%3D?line=1'>2</a>\u001b[0m df \u001b[39m=\u001b[39m df\u001b[39m.\u001b[39mdrop(\u001b[39m'\u001b[39m\u001b[39mInfos\u001b[39m\u001b[39m'\u001b[39m, axis\u001b[39m=\u001b[39m\u001b[39m1\u001b[39m)\n\u001b[0;32m      <a href='vscode-notebook-cell:/c%3A/Users/saeed/Desktop/Mozayedegar/Divar-Scraping/scrapy/divar/Cleaning/Data-Cleaner.ipynb#W4sZmlsZQ%3D%3D?line=2'>3</a>\u001b[0m df \u001b[39m=\u001b[39m df\u001b[39m.\u001b[39mrename({\u001b[39m'\u001b[39m\u001b[39mtest2\u001b[39m\u001b[39m'\u001b[39m: \u001b[39m'\u001b[39m\u001b[39mInfos\u001b[39m\u001b[39m'\u001b[39m}, axis\u001b[39m=\u001b[39m\u001b[39m1\u001b[39m)  \u001b[39m# new method\u001b[39;00m\n\u001b[1;32m----> <a href='vscode-notebook-cell:/c%3A/Users/saeed/Desktop/Mozayedegar/Divar-Scraping/scrapy/divar/Cleaning/Data-Cleaner.ipynb#W4sZmlsZQ%3D%3D?line=3'>4</a>\u001b[0m df \u001b[39m=\u001b[39m df\u001b[39m.\u001b[39;49mdrop(\u001b[39m'\u001b[39;49m\u001b[39mtest2\u001b[39;49m\u001b[39m'\u001b[39;49m, axis\u001b[39m=\u001b[39;49m\u001b[39m1\u001b[39;49m)\n\u001b[0;32m      <a href='vscode-notebook-cell:/c%3A/Users/saeed/Desktop/Mozayedegar/Divar-Scraping/scrapy/divar/Cleaning/Data-Cleaner.ipynb#W4sZmlsZQ%3D%3D?line=4'>5</a>\u001b[0m \u001b[39mprint\u001b[39m(df)\n",
      "File \u001b[1;32mc:\\Users\\saeed\\anaconda3\\envs\\tf\\lib\\site-packages\\pandas\\util\\_decorators.py:311\u001b[0m, in \u001b[0;36mdeprecate_nonkeyword_arguments.<locals>.decorate.<locals>.wrapper\u001b[1;34m(*args, **kwargs)\u001b[0m\n\u001b[0;32m    305\u001b[0m \u001b[39mif\u001b[39;00m \u001b[39mlen\u001b[39m(args) \u001b[39m>\u001b[39m num_allow_args:\n\u001b[0;32m    306\u001b[0m     warnings\u001b[39m.\u001b[39mwarn(\n\u001b[0;32m    307\u001b[0m         msg\u001b[39m.\u001b[39mformat(arguments\u001b[39m=\u001b[39marguments),\n\u001b[0;32m    308\u001b[0m         \u001b[39mFutureWarning\u001b[39;00m,\n\u001b[0;32m    309\u001b[0m         stacklevel\u001b[39m=\u001b[39mstacklevel,\n\u001b[0;32m    310\u001b[0m     )\n\u001b[1;32m--> 311\u001b[0m \u001b[39mreturn\u001b[39;00m func(\u001b[39m*\u001b[39margs, \u001b[39m*\u001b[39m\u001b[39m*\u001b[39mkwargs)\n",
      "File \u001b[1;32mc:\\Users\\saeed\\anaconda3\\envs\\tf\\lib\\site-packages\\pandas\\core\\frame.py:4954\u001b[0m, in \u001b[0;36mDataFrame.drop\u001b[1;34m(self, labels, axis, index, columns, level, inplace, errors)\u001b[0m\n\u001b[0;32m   4806\u001b[0m \u001b[39m@deprecate_nonkeyword_arguments\u001b[39m(version\u001b[39m=\u001b[39m\u001b[39mNone\u001b[39;00m, allowed_args\u001b[39m=\u001b[39m[\u001b[39m\"\u001b[39m\u001b[39mself\u001b[39m\u001b[39m\"\u001b[39m, \u001b[39m\"\u001b[39m\u001b[39mlabels\u001b[39m\u001b[39m\"\u001b[39m])\n\u001b[0;32m   4807\u001b[0m \u001b[39mdef\u001b[39;00m \u001b[39mdrop\u001b[39m(\n\u001b[0;32m   4808\u001b[0m     \u001b[39mself\u001b[39m,\n\u001b[1;32m   (...)\u001b[0m\n\u001b[0;32m   4815\u001b[0m     errors: \u001b[39mstr\u001b[39m \u001b[39m=\u001b[39m \u001b[39m\"\u001b[39m\u001b[39mraise\u001b[39m\u001b[39m\"\u001b[39m,\n\u001b[0;32m   4816\u001b[0m ):\n\u001b[0;32m   4817\u001b[0m     \u001b[39m\"\"\"\u001b[39;00m\n\u001b[0;32m   4818\u001b[0m \u001b[39m    Drop specified labels from rows or columns.\u001b[39;00m\n\u001b[0;32m   4819\u001b[0m \n\u001b[1;32m   (...)\u001b[0m\n\u001b[0;32m   4952\u001b[0m \u001b[39m            weight  1.0     0.8\u001b[39;00m\n\u001b[0;32m   4953\u001b[0m \u001b[39m    \"\"\"\u001b[39;00m\n\u001b[1;32m-> 4954\u001b[0m     \u001b[39mreturn\u001b[39;00m \u001b[39msuper\u001b[39;49m()\u001b[39m.\u001b[39;49mdrop(\n\u001b[0;32m   4955\u001b[0m         labels\u001b[39m=\u001b[39;49mlabels,\n\u001b[0;32m   4956\u001b[0m         axis\u001b[39m=\u001b[39;49maxis,\n\u001b[0;32m   4957\u001b[0m         index\u001b[39m=\u001b[39;49mindex,\n\u001b[0;32m   4958\u001b[0m         columns\u001b[39m=\u001b[39;49mcolumns,\n\u001b[0;32m   4959\u001b[0m         level\u001b[39m=\u001b[39;49mlevel,\n\u001b[0;32m   4960\u001b[0m         inplace\u001b[39m=\u001b[39;49minplace,\n\u001b[0;32m   4961\u001b[0m         errors\u001b[39m=\u001b[39;49merrors,\n\u001b[0;32m   4962\u001b[0m     )\n",
      "File \u001b[1;32mc:\\Users\\saeed\\anaconda3\\envs\\tf\\lib\\site-packages\\pandas\\core\\generic.py:4267\u001b[0m, in \u001b[0;36mNDFrame.drop\u001b[1;34m(self, labels, axis, index, columns, level, inplace, errors)\u001b[0m\n\u001b[0;32m   4265\u001b[0m \u001b[39mfor\u001b[39;00m axis, labels \u001b[39min\u001b[39;00m axes\u001b[39m.\u001b[39mitems():\n\u001b[0;32m   4266\u001b[0m     \u001b[39mif\u001b[39;00m labels \u001b[39mis\u001b[39;00m \u001b[39mnot\u001b[39;00m \u001b[39mNone\u001b[39;00m:\n\u001b[1;32m-> 4267\u001b[0m         obj \u001b[39m=\u001b[39m obj\u001b[39m.\u001b[39;49m_drop_axis(labels, axis, level\u001b[39m=\u001b[39;49mlevel, errors\u001b[39m=\u001b[39;49merrors)\n\u001b[0;32m   4269\u001b[0m \u001b[39mif\u001b[39;00m inplace:\n\u001b[0;32m   4270\u001b[0m     \u001b[39mself\u001b[39m\u001b[39m.\u001b[39m_update_inplace(obj)\n",
      "File \u001b[1;32mc:\\Users\\saeed\\anaconda3\\envs\\tf\\lib\\site-packages\\pandas\\core\\generic.py:4311\u001b[0m, in \u001b[0;36mNDFrame._drop_axis\u001b[1;34m(self, labels, axis, level, errors, consolidate, only_slice)\u001b[0m\n\u001b[0;32m   4309\u001b[0m         new_axis \u001b[39m=\u001b[39m axis\u001b[39m.\u001b[39mdrop(labels, level\u001b[39m=\u001b[39mlevel, errors\u001b[39m=\u001b[39merrors)\n\u001b[0;32m   4310\u001b[0m     \u001b[39melse\u001b[39;00m:\n\u001b[1;32m-> 4311\u001b[0m         new_axis \u001b[39m=\u001b[39m axis\u001b[39m.\u001b[39;49mdrop(labels, errors\u001b[39m=\u001b[39;49merrors)\n\u001b[0;32m   4312\u001b[0m     indexer \u001b[39m=\u001b[39m axis\u001b[39m.\u001b[39mget_indexer(new_axis)\n\u001b[0;32m   4314\u001b[0m \u001b[39m# Case for non-unique axis\u001b[39;00m\n\u001b[0;32m   4315\u001b[0m \u001b[39melse\u001b[39;00m:\n",
      "File \u001b[1;32mc:\\Users\\saeed\\anaconda3\\envs\\tf\\lib\\site-packages\\pandas\\core\\indexes\\base.py:6644\u001b[0m, in \u001b[0;36mIndex.drop\u001b[1;34m(self, labels, errors)\u001b[0m\n\u001b[0;32m   6642\u001b[0m \u001b[39mif\u001b[39;00m mask\u001b[39m.\u001b[39many():\n\u001b[0;32m   6643\u001b[0m     \u001b[39mif\u001b[39;00m errors \u001b[39m!=\u001b[39m \u001b[39m\"\u001b[39m\u001b[39mignore\u001b[39m\u001b[39m\"\u001b[39m:\n\u001b[1;32m-> 6644\u001b[0m         \u001b[39mraise\u001b[39;00m \u001b[39mKeyError\u001b[39;00m(\u001b[39mf\u001b[39m\u001b[39m\"\u001b[39m\u001b[39m{\u001b[39;00m\u001b[39mlist\u001b[39m(labels[mask])\u001b[39m}\u001b[39;00m\u001b[39m not found in axis\u001b[39m\u001b[39m\"\u001b[39m)\n\u001b[0;32m   6645\u001b[0m     indexer \u001b[39m=\u001b[39m indexer[\u001b[39m~\u001b[39mmask]\n\u001b[0;32m   6646\u001b[0m \u001b[39mreturn\u001b[39;00m \u001b[39mself\u001b[39m\u001b[39m.\u001b[39mdelete(indexer)\n",
      "\u001b[1;31mKeyError\u001b[0m: \"['test2'] not found in axis\""
     ]
    }
   ],
   "source": [
    "df = df.drop('Distance Year Color', axis=1)\n",
    "df = df.drop('Infos', axis=1)\n",
    "df = df.rename({'test2 ': 'Infos'}, axis=1)  # new method\n",
    "df = df.drop('test2', axis=1)\n",
    "print(df)"
   ]
  },
  {
   "cell_type": "code",
   "execution_count": 13,
   "metadata": {},
   "outputs": [],
   "source": [
    "# df = df.rename({'test2': 'Brand'}, axis=1)  # new method\n",
    "# df = df.rename({'قیمت فروش نقدی': 'Price'}, axis=1)  # new method\n",
    "# df = df.rename({'قیمت فروش نقدی': 'Price'}, axis=1)  # new method"
   ]
  },
  {
   "cell_type": "code",
   "execution_count": 12,
   "metadata": {},
   "outputs": [],
   "source": [
    "df.to_csv(\"./%s.csv\"%filename, encoding=\"UTF-8-sig\")"
   ]
  }
 ],
 "metadata": {
  "kernelspec": {
   "display_name": "Python 3.10.4 ('tf')",
   "language": "python",
   "name": "python3"
  },
  "language_info": {
   "codemirror_mode": {
    "name": "ipython",
    "version": 3
   },
   "file_extension": ".py",
   "mimetype": "text/x-python",
   "name": "python",
   "nbconvert_exporter": "python",
   "pygments_lexer": "ipython3",
   "version": "3.10.6"
  },
  "orig_nbformat": 4,
  "vscode": {
   "interpreter": {
    "hash": "b3786a3d91fef65560eea43fc5a5f9b26ec85c6d45691169d5df7c46227165df"
   }
  }
 },
 "nbformat": 4,
 "nbformat_minor": 2
}
