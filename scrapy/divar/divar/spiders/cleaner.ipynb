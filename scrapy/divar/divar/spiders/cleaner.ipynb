{
 "cells": [
  {
   "cell_type": "code",
   "execution_count": 48,
   "metadata": {},
   "outputs": [],
   "source": [
    "import numpy as np\n",
    "import pandas as pd\n",
    "from io import StringIO"
   ]
  },
  {
   "cell_type": "code",
   "execution_count": 60,
   "metadata": {},
   "outputs": [
    {
     "data": {
      "text/html": [
       "<div>\n",
       "<style scoped>\n",
       "    .dataframe tbody tr th:only-of-type {\n",
       "        vertical-align: middle;\n",
       "    }\n",
       "\n",
       "    .dataframe tbody tr th {\n",
       "        vertical-align: top;\n",
       "    }\n",
       "\n",
       "    .dataframe thead th {\n",
       "        text-align: right;\n",
       "    }\n",
       "</style>\n",
       "<table border=\"1\" class=\"dataframe\">\n",
       "  <thead>\n",
       "    <tr style=\"text-align: right;\">\n",
       "      <th></th>\n",
       "      <th>https://divar.ir/v/-/wYZI9aCI,\" \"\"هیوندای اکسنت مونتاژ\"\"\",\" \"\"برند و تیپ\"\"\",\" \"\"وضعیت موتور\"\"\",\" \"\"سالم\"\"\",\" \"\"وضعیت شاسی‌ها\"\"\",\" \"\"سالم و پلمپ\"\"\",\" \"\"وضعیت بدنه\"\"\",\" \"\"خط و خش جزیی\"\"\",\" \"\"مهلت بیمهٔ شخص ثالث\"\"\",\" \"\"۸ ماه\"\"\",\" \"\"گیربکس\"\"\",\" \"\"اتوماتیک\"\"\",\" \"\"نحوه فروش\"\"\",\" \"\"نقدی\"\"\",\" \"\"قیمت\"\"\",\" \"\"۸۴۵٬۰۰۰٬۰۰۰ تومان\"\"\",,,,,</th>\n",
       "    </tr>\n",
       "  </thead>\n",
       "  <tbody>\n",
       "    <tr>\n",
       "      <th>0</th>\n",
       "      <td>https://divar.ir/v/-/gY2bi-Wo,\" \"\"فونیکس آریزو...</td>\n",
       "    </tr>\n",
       "    <tr>\n",
       "      <th>1</th>\n",
       "      <td>https://divar.ir/v/-/gYl_Aeqi,\" \"\"جک S5 اتومات...</td>\n",
       "    </tr>\n",
       "    <tr>\n",
       "      <th>2</th>\n",
       "      <td>https://divar.ir/v/-/gYh2tUL5,\" \"\"فونیکس تیگو ...</td>\n",
       "    </tr>\n",
       "    <tr>\n",
       "      <th>3</th>\n",
       "      <td>https://divar.ir/v/-/wYZ48jI_,\" \"\"فیدلیتی پرای...</td>\n",
       "    </tr>\n",
       "    <tr>\n",
       "      <th>4</th>\n",
       "      <td>https://divar.ir/v/-/wYYYUvYS,\" \"\"هیوندای جنسی...</td>\n",
       "    </tr>\n",
       "    <tr>\n",
       "      <th>...</th>\n",
       "      <td>...</td>\n",
       "    </tr>\n",
       "    <tr>\n",
       "      <th>104916</th>\n",
       "      <td>https://divar.ir/v/-/QY_sgh7W,\" \"\"کوییک دنده‌ا...</td>\n",
       "    </tr>\n",
       "    <tr>\n",
       "      <th>104917</th>\n",
       "      <td>https://divar.ir/v/-/QYi5dgAk,\" \"\"فونیکس آریزو...</td>\n",
       "    </tr>\n",
       "    <tr>\n",
       "      <th>104918</th>\n",
       "      <td>https://divar.ir/v/-/QYi5LwCj,\" \"\"چری تیگو 7 ا...</td>\n",
       "    </tr>\n",
       "    <tr>\n",
       "      <th>104919</th>\n",
       "      <td>https://divar.ir/v/-/QYhJYYhP,\" \"\"فونیکس تیگو ...</td>\n",
       "    </tr>\n",
       "    <tr>\n",
       "      <th>104920</th>\n",
       "      <td>https://divar.ir/v/-/gYRi7bsW,\" \"\"بی‌ام‌و X3 2...</td>\n",
       "    </tr>\n",
       "  </tbody>\n",
       "</table>\n",
       "<p>104921 rows × 1 columns</p>\n",
       "</div>"
      ],
      "text/plain": [
       "       https://divar.ir/v/-/wYZI9aCI,\" \"\"هیوندای اکسنت مونتاژ\"\"\",\" \"\"برند و تیپ\"\"\",\" \"\"وضعیت موتور\"\"\",\" \"\"سالم\"\"\",\" \"\"وضعیت شاسی‌ها\"\"\",\" \"\"سالم و پلمپ\"\"\",\" \"\"وضعیت بدنه\"\"\",\" \"\"خط و خش جزیی\"\"\",\" \"\"مهلت بیمهٔ شخص ثالث\"\"\",\" \"\"۸ ماه\"\"\",\" \"\"گیربکس\"\"\",\" \"\"اتوماتیک\"\"\",\" \"\"نحوه فروش\"\"\",\" \"\"نقدی\"\"\",\" \"\"قیمت\"\"\",\" \"\"۸۴۵٬۰۰۰٬۰۰۰ تومان\"\"\",,,,,\n",
       "0       https://divar.ir/v/-/gY2bi-Wo,\" \"\"فونیکس آریزو...                                                                                                                                                                                                                                                                                   \n",
       "1       https://divar.ir/v/-/gYl_Aeqi,\" \"\"جک S5 اتومات...                                                                                                                                                                                                                                                                                   \n",
       "2       https://divar.ir/v/-/gYh2tUL5,\" \"\"فونیکس تیگو ...                                                                                                                                                                                                                                                                                   \n",
       "3       https://divar.ir/v/-/wYZ48jI_,\" \"\"فیدلیتی پرای...                                                                                                                                                                                                                                                                                   \n",
       "4       https://divar.ir/v/-/wYYYUvYS,\" \"\"هیوندای جنسی...                                                                                                                                                                                                                                                                                   \n",
       "...                                                   ...                                                                                                                                                                                                                                                                                   \n",
       "104916  https://divar.ir/v/-/QY_sgh7W,\" \"\"کوییک دنده‌ا...                                                                                                                                                                                                                                                                                   \n",
       "104917  https://divar.ir/v/-/QYi5dgAk,\" \"\"فونیکس آریزو...                                                                                                                                                                                                                                                                                   \n",
       "104918  https://divar.ir/v/-/QYi5LwCj,\" \"\"چری تیگو 7 ا...                                                                                                                                                                                                                                                                                   \n",
       "104919  https://divar.ir/v/-/QYhJYYhP,\" \"\"فونیکس تیگو ...                                                                                                                                                                                                                                                                                   \n",
       "104920  https://divar.ir/v/-/gYRi7bsW,\" \"\"بی‌ام‌و X3 2...                                                                                                                                                                                                                                                                                   \n",
       "\n",
       "[104921 rows x 1 columns]"
      ]
     },
     "execution_count": 60,
     "metadata": {},
     "output_type": "execute_result"
    }
   ],
   "source": [
    "my_token = pd.read_table(r'C:\\Users\\saeed\\Desktop\\Mozayedegar\\Divar-Scraping\\scrapy\\divar\\divar\\spiders\\myfinalprices - Copy.csv')\n",
    "my_token"
   ]
  },
  {
   "cell_type": "code",
   "execution_count": 61,
   "metadata": {},
   "outputs": [
    {
     "data": {
      "text/plain": [
       "104921"
      ]
     },
     "execution_count": 61,
     "metadata": {},
     "output_type": "execute_result"
    }
   ],
   "source": [
    "len(my_token)"
   ]
  },
  {
   "cell_type": "code",
   "execution_count": 63,
   "metadata": {},
   "outputs": [
    {
     "name": "stdout",
     "output_type": "stream",
     "text": [
      "0         https://divar.ir/v/-/gY2bi-Wo,\" \"\"فونیکس آریزو...\n",
      "1         https://divar.ir/v/-/gYl_Aeqi,\" \"\"جک S5 اتومات...\n",
      "2         https://divar.ir/v/-/gYh2tUL5,\" \"\"فونیکس تیگو ...\n",
      "3         https://divar.ir/v/-/wYZ48jI_,\" \"\"فیدلیتی پرای...\n",
      "4         https://divar.ir/v/-/wYYYUvYS,\" \"\"هیوندای جنسی...\n",
      "                                ...                        \n",
      "104916    https://divar.ir/v/-/QY_sgh7W,\" \"\"کوییک دنده‌ا...\n",
      "104917    https://divar.ir/v/-/QYi5dgAk,\" \"\"فونیکس آریزو...\n",
      "104918    https://divar.ir/v/-/QYi5LwCj,\" \"\"چری تیگو 7 ا...\n",
      "104919    https://divar.ir/v/-/QYhJYYhP,\" \"\"فونیکس تیگو ...\n",
      "104920    https://divar.ir/v/-/gYRi7bsW,\" \"\"بی‌ام‌و X3 2...\n",
      "Name: https://divar.ir/v/-/wYZI9aCI,\" \"\"هیوندای اکسنت مونتاژ\"\"\",\" \"\"برند و تیپ\"\"\",\" \"\"وضعیت موتور\"\"\",\" \"\"سالم\"\"\",\" \"\"وضعیت شاسی‌ها\"\"\",\" \"\"سالم و پلمپ\"\"\",\" \"\"وضعیت بدنه\"\"\",\" \"\"خط و خش جزیی\"\"\",\" \"\"مهلت بیمهٔ شخص ثالث\"\"\",\" \"\"۸ ماه\"\"\",\" \"\"گیربکس\"\"\",\" \"\"اتوماتیک\"\"\",\" \"\"نحوه فروش\"\"\",\" \"\"نقدی\"\"\",\" \"\"قیمت\"\"\",\" \"\"۸۴۵٬۰۰۰٬۰۰۰ تومان\"\"\",,,,,, Length: 104921, dtype: object\n"
     ]
    },
    {
     "ename": "AttributeError",
     "evalue": "'NoneType' object has no attribute 'split'",
     "output_type": "error",
     "traceback": [
      "\u001b[1;31m---------------------------------------------------------------------------\u001b[0m",
      "\u001b[1;31mAttributeError\u001b[0m                            Traceback (most recent call last)",
      "\u001b[1;32mc:\\Users\\saeed\\Desktop\\Mozayedegar\\Divar-Scraping\\scrapy\\divar\\divar\\spiders\\cleaner.ipynb Cell 4\u001b[0m in \u001b[0;36m<cell line: 1>\u001b[1;34m()\u001b[0m\n\u001b[0;32m      <a href='vscode-notebook-cell:/c%3A/Users/saeed/Desktop/Mozayedegar/Divar-Scraping/scrapy/divar/divar/spiders/cleaner.ipynb#W2sZmlsZQ%3D%3D?line=0'>1</a>\u001b[0m \u001b[39mfor\u001b[39;00m i \u001b[39min\u001b[39;00m my_token:\n\u001b[1;32m----> <a href='vscode-notebook-cell:/c%3A/Users/saeed/Desktop/Mozayedegar/Divar-Scraping/scrapy/divar/divar/spiders/cleaner.ipynb#W2sZmlsZQ%3D%3D?line=1'>2</a>\u001b[0m     \u001b[39mprint\u001b[39;49m(\u001b[39mstr\u001b[39;49m(my_token[i]))\u001b[39m.\u001b[39;49msplit(\u001b[39m\"\u001b[39m\u001b[39m,\u001b[39m\u001b[39m\"\u001b[39m)\n",
      "\u001b[1;31mAttributeError\u001b[0m: 'NoneType' object has no attribute 'split'"
     ]
    }
   ],
   "source": [
    "for i in my_token:\n",
    "    print(str(my_token[i])).split(\"\\\",\\\"\")\n"
   ]
  }
 ],
 "metadata": {
  "kernelspec": {
   "display_name": "Python 3.9.12 ('base')",
   "language": "python",
   "name": "python3"
  },
  "language_info": {
   "codemirror_mode": {
    "name": "ipython",
    "version": 3
   },
   "file_extension": ".py",
   "mimetype": "text/x-python",
   "name": "python",
   "nbconvert_exporter": "python",
   "pygments_lexer": "ipython3",
   "version": "3.9.12"
  },
  "orig_nbformat": 4,
  "vscode": {
   "interpreter": {
    "hash": "ab4a7a746f19a6b28cb28fb7fdc7b8092c96f664091ec02a100da3d97f33dc84"
   }
  }
 },
 "nbformat": 4,
 "nbformat_minor": 2
}
